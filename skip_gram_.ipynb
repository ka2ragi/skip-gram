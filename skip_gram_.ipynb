{
  "nbformat": 4,
  "nbformat_minor": 0,
  "metadata": {
    "colab": {
      "provenance": [],
      "gpuType": "T4"
    },
    "kernelspec": {
      "name": "python3",
      "display_name": "Python 3"
    },
    "language_info": {
      "name": "python"
    },
    "accelerator": "GPU"
  },
  "cells": [
    {
      "cell_type": "markdown",
      "source": [
        "#概要\n",
        "##Penn TreeBankデータセットを用いて単語の分散表現を獲得することを目指します。一般に、単語の分散表現を得るには、word2vecと呼ばれる手法を用います。word2vecには、CBOWモデルとskip-gramモデルの二つが提案されていますが、ここではskip-gramモデルを実装していきます。"
      ],
      "metadata": {
        "id": "sHZHUN1BvShx"
      }
    },
    {
      "cell_type": "markdown",
      "source": [
        "##設定"
      ],
      "metadata": {
        "id": "DhnZmFYxVbYx"
      }
    },
    {
      "cell_type": "code",
      "source": [
        "from google.colab import drive\n",
        "drive.mount('/content/drive/')"
      ],
      "metadata": {
        "id": "6L1s0iJKkcdM",
        "colab": {
          "base_uri": "https://localhost:8080/"
        },
        "outputId": "20b19e59-ba73-4d2e-b633-249f40ae25de"
      },
      "execution_count": 1,
      "outputs": [
        {
          "output_type": "stream",
          "name": "stdout",
          "text": [
            "Mounted at /content/drive/\n"
          ]
        }
      ]
    },
    {
      "cell_type": "code",
      "source": [
        "root_path = '/content/drive/MyDrive/path/to/your/dir'"
      ],
      "metadata": {
        "id": "-phAbeDzmHqo"
      },
      "execution_count": 2,
      "outputs": []
    },
    {
      "cell_type": "code",
      "source": [
        "# 再現性の確保\n",
        "import torch\n",
        "import random\n",
        "import numpy as np\n",
        "\n",
        "# シード値\n",
        "seed = 42\n",
        "\n",
        "# CPUおよびGPUの乱数生成器のシードを固定\n",
        "torch.manual_seed(seed)\n",
        "if torch.cuda.is_available():\n",
        "    torch.cuda.manual_seed(seed)\n",
        "    torch.cuda.manual_seed_all(seed)  # マルチGPUを使用する場合\n",
        "\n",
        "# CuDNNの挙動を決定論的に\n",
        "torch.backends.cudnn.deterministic = True\n",
        "torch.backends.cudnn.benchmark = False\n",
        "\n",
        "# NumPyの乱数生成器のシードを固定\n",
        "np.random.seed(seed)\n",
        "\n",
        "# Pythonの組み込み乱数生成器のシードを固定\n",
        "random.seed(seed)\n"
      ],
      "metadata": {
        "id": "-xfo6aY6W3uZ"
      },
      "execution_count": 3,
      "outputs": []
    },
    {
      "cell_type": "markdown",
      "source": [
        "##PTBデータセットのダウンロード\n",
        "###PTBデータセットをダウンロードします。Google Colabのディスクに保存すると、セッションが切れるごとに再ダウンロードが必要になります。\n"
      ],
      "metadata": {
        "id": "z5kQbuGPVssN"
      }
    },
    {
      "cell_type": "code",
      "source": [
        "import os\n",
        "import requests\n",
        "\n",
        "url_base = 'https://raw.githubusercontent.com/tomsercu/lstm/master/data/'\n",
        "files = ['ptb.train.txt', 'ptb.valid.txt', 'ptb.test.txt']\n",
        "\n",
        "for file in files:\n",
        "\n",
        "  save_path = root_path + \"/\" + file\n",
        "  if os.path.exists(save_path):\n",
        "    print(f\"{file} already exists.\")\n",
        "    continue\n",
        "\n",
        "  url = url_base + file\n",
        "  response = requests.get(url)\n",
        "\n",
        "  if response.status_code == 200:\n",
        "    with open(save_path, \"wb\") as f:\n",
        "      f.write(response.content)\n",
        "\n",
        "      print(f\"{file} downloaded and saved successfully.\")\n",
        "\n",
        "  else:\n",
        "    print(f\"{file} failed to download. Status code: {response.status_code}\")"
      ],
      "metadata": {
        "id": "LRGSKjdkmNTn",
        "colab": {
          "base_uri": "https://localhost:8080/"
        },
        "outputId": "7251c69e-0758-4393-97fc-96c327906612"
      },
      "execution_count": 4,
      "outputs": [
        {
          "output_type": "stream",
          "name": "stdout",
          "text": [
            "ptb.train.txt downloaded and saved successfully.\n",
            "ptb.valid.txt downloaded and saved successfully.\n",
            "ptb.test.txt downloaded and saved successfully.\n"
          ]
        }
      ]
    },
    {
      "cell_type": "markdown",
      "source": [
        "##コーパスの作成\n",
        "###ここではコーパスおよび語彙とIDの辞書を作成する以下の関数を実装します。\n",
        "- load_corpus：PTBデータセットを用いてcorpus, word_to_id, id_to_wordを作成します。\n",
        "\n"
      ],
      "metadata": {
        "id": "K9WQ5ykUV7CN"
      }
    },
    {
      "cell_type": "code",
      "source": [
        "files = ['ptb.train.txt']"
      ],
      "metadata": {
        "id": "vypOA61Zjbb_"
      },
      "execution_count": 5,
      "outputs": []
    },
    {
      "cell_type": "code",
      "source": [
        "import numpy as np\n",
        "from typing import List, Dict, Tuple\n",
        "\n",
        "def load_corpus(files: List[str], root_path: str) -> Tuple[np.ndarray, Dict[str, int], Dict[int, str]]:\n",
        "    word_to_id: Dict[str, int] = {}\n",
        "    id_to_word: Dict[int, str] = {}\n",
        "\n",
        "    for file in files:\n",
        "        with open(root_path + '/' + file, \"r\") as ff:\n",
        "            words = ff.read().replace(\"\\n\", \"<eos>\").strip().split()\n",
        "\n",
        "            for word in words:\n",
        "                if word not in word_to_id:\n",
        "                    tmp_id = len(word_to_id)\n",
        "                    word_to_id[word] = tmp_id\n",
        "                    id_to_word[tmp_id] = word\n",
        "\n",
        "    corpus: np.ndarray = np.array([word_to_id[w] for w in words])\n",
        "\n",
        "    return corpus, word_to_id, id_to_word\n",
        "\n"
      ],
      "metadata": {
        "id": "RrXiyDostq0P"
      },
      "execution_count": 6,
      "outputs": []
    },
    {
      "cell_type": "markdown",
      "source": [
        "##Negative Sampling\n",
        "###ここではNegative Samplingのためのクラスを実装しますが、この際にデータ型に注意してください。また、実装するうえで以下のレポジトリを参考にしました。\n",
        "https://github.com/oreilly-japan/deep-learning-from-scratch-2/blob/master/ch04/negative_sampling_layer.py"
      ],
      "metadata": {
        "id": "d61VmWTbYgVT"
      }
    },
    {
      "cell_type": "code",
      "source": [
        "import numpy as np\n",
        "import torch\n",
        "from collections import Counter\n",
        "\n",
        "class UnigramSampler:\n",
        "    def __init__(self, corpus, power, sample_size):\n",
        "        self.sample_size = sample_size\n",
        "        self.vocab_size = None\n",
        "        self.word_p = None\n",
        "\n",
        "        # 'corpus' はnumpy配列として扱われます\n",
        "        counts = Counter(corpus)\n",
        "        vocab_size = len(counts)\n",
        "        self.vocab_size = vocab_size\n",
        "\n",
        "        self.word_p = np.zeros(vocab_size)\n",
        "        for i in range(vocab_size):\n",
        "            self.word_p[i] = counts[i]\n",
        "\n",
        "        self.word_p = np.power(self.word_p, power)\n",
        "        self.word_p /= np.sum(self.word_p)\n",
        "\n",
        "    def get_negative_sample(self, target):\n",
        "        # 'target' はtorch.Tensorとして扱われます\n",
        "        if target.dim() == 0:\n",
        "          target = target.unsqueeze(0)\n",
        "        batch_size = target.size(0)\n",
        "        negative_sample = np.zeros((batch_size, self.sample_size), dtype=np.int32)\n",
        "\n",
        "        for i in range(batch_size):\n",
        "            p = self.word_p.copy()\n",
        "            target_idx = target[i].item()  # targetからnumpy indexを取得\n",
        "            p[target_idx] = 0\n",
        "            p /= p.sum()\n",
        "\n",
        "            negative_sample[i, :] = np.random.choice(self.vocab_size, self.sample_size, replace=False, p=p)\n",
        "\n",
        "        # 'negative_sample' はtorch.Tensorとして返されます\n",
        "        return torch.from_numpy(negative_sample).long()\n"
      ],
      "metadata": {
        "id": "OMv9WCQeLKdE"
      },
      "execution_count": 7,
      "outputs": []
    },
    {
      "cell_type": "markdown",
      "source": [
        "##データの準備\n",
        "###ここではPyTorchのDataset、DataLoaderクラスを用いて学習に必要なデータセットを作成します。ここでもデータ型に注意して実装してください。\n",
        "- CustomDatasetクラス：学習に使えるようにデータを成形します。\n",
        "- DataLoader：学習時のバッチ処理を効率的に行います。\n"
      ],
      "metadata": {
        "id": "AtdEMdHTZVRX"
      }
    },
    {
      "cell_type": "code",
      "source": [
        "import torch\n",
        "import torch.nn as nn\n",
        "import torch.optim as optim\n",
        "from torch.utils.data import Dataset, DataLoader"
      ],
      "metadata": {
        "id": "KzZeQMOrareE"
      },
      "execution_count": 8,
      "outputs": []
    },
    {
      "cell_type": "code",
      "source": [
        "corpus, word_to_id, id_to_word = load_corpus(files, root_path)"
      ],
      "metadata": {
        "id": "PIn_gNYnaQtD"
      },
      "execution_count": 9,
      "outputs": []
    },
    {
      "cell_type": "code",
      "source": [
        "# データ準備_1\n",
        "class CustomDataset(Dataset):\n",
        "  def __init__(self, corpus, window_size=5):\n",
        "    self.corpus = corpus\n",
        "    self.window_size = window_size\n",
        "    self.target = torch.from_numpy(corpus[window_size:-window_size]).long()\n",
        "    self.contexts = self._create_contexts(corpus, window_size)\n",
        "    self.sampler = UnigramSampler(corpus, power=0.75, sample_size=5)\n",
        "\n",
        "  def _create_contexts(self, corpus, window_size):\n",
        "    contexts = []\n",
        "    for idx in range(window_size, len(corpus)-window_size):\n",
        "        cs = []\n",
        "        for t in range(-window_size, window_size + 1):\n",
        "            if t == 0:\n",
        "                continue\n",
        "            cs.append(corpus[idx + t])\n",
        "        contexts.append(cs)\n",
        "\n",
        "    contexts = torch.stack([torch.tensor(c) for c in contexts])\n",
        "\n",
        "    return contexts\n",
        "\n",
        "  def __len__(self):\n",
        "\n",
        "    return len(self.target)\n",
        "\n",
        "  def __getitem__(self, idx):\n",
        "    batch_inputs = self.target[idx]\n",
        "    batch_positive = self.contexts[idx]\n",
        "    batch_negative = self.sampler.get_negative_sample(batch_inputs)\n",
        "    batch_negative = batch_negative.squeeze(0)\n",
        "\n",
        "    return batch_inputs, batch_positive, batch_negative\n"
      ],
      "metadata": {
        "id": "m6TVRvHJnoXs"
      },
      "execution_count": 10,
      "outputs": []
    },
    {
      "cell_type": "code",
      "source": [
        "%%time\n",
        "# データ準備2\n",
        "corpus, word_to_id, id_to_word = load_corpus(files, root_path)\n",
        "vocab_list = list(word_to_id.keys())\n",
        "ptb_dataset = CustomDataset(corpus, window_size=5)\n",
        "ptb_dataloader = DataLoader(ptb_dataset, batch_size=100, shuffle=True, num_workers=0)"
      ],
      "metadata": {
        "id": "ttFP6kwbrwZi",
        "colab": {
          "base_uri": "https://localhost:8080/"
        },
        "outputId": "a89ab21b-fa0c-4a80-8576-b7e9157a6b71"
      },
      "execution_count": 57,
      "outputs": [
        {
          "output_type": "stream",
          "name": "stdout",
          "text": [
            "CPU times: user 16 s, sys: 1.22 s, total: 17.2 s\n",
            "Wall time: 16.6 s\n"
          ]
        }
      ]
    },
    {
      "cell_type": "code",
      "source": [
        "# 動作確認\n",
        "for batch_target, batch_positive, batch_negative in ptb_dataloader:\n",
        "    print(\"Target:\", batch_target)\n",
        "    print(\"Positive:\", batch_positive)\n",
        "    print(\"Negative Sample:\", batch_negative)\n",
        "    break\n"
      ],
      "metadata": {
        "colab": {
          "base_uri": "https://localhost:8080/"
        },
        "id": "EZmh2plluKxu",
        "outputId": "d6b3f3b2-18fa-47d9-9048-c751deb01da3"
      },
      "execution_count": 31,
      "outputs": [
        {
          "output_type": "stream",
          "name": "stdout",
          "text": [
            "Target: tensor([  27,   54,   95,  321,  459,   32, 6725,  393,  351, 1153, 7172, 3552,\n",
            "        1781,   34,   26, 4584,   64, 4734,   26,   69,   69, 3480, 4919, 2096,\n",
            "          78,  229, 4444,  432,   26, 9444,  119, 1845,   26,   26, 1624,  753,\n",
            "         315,  307,   32, 1602,   64,   54,   30,  113,   98,  307,   24,   64,\n",
            "         181, 2993, 7035, 1753,   99, 6324,  159,   24,  396,  154,  923, 8084,\n",
            "          54,   27,   26,   64,  424,  936,   27,  160,  719,  790,   26,  623,\n",
            "         160,   34,  154,   48,  468,   26,   42, 3394, 5424, 1106, 1035, 2304,\n",
            "          40,  169,  674,  933,  237,   32, 2464, 9779, 2380,  229, 6527,  130,\n",
            "        3091,  187,  418, 1045])\n",
            "Positive: tensor([[ 160,  416,   27,   95,  416,   24, 1140,  334, 3885,   30],\n",
            "        [2887,   64,   26,   24,   78, 5147,   24,   78,   54,   26],\n",
            "        [  48,  987, 6955,  154, 1070,   26, 3938,   24,   78,  119],\n",
            "        [3027, 4585,   24,  914, 6673,  176, 1982,   26,  152, 1730],\n",
            "        [ 952, 8429,   32, 6123,  360,  902,   24,   39, 8429,   98],\n",
            "        [  40, 1493,   64, 4052,  152, 9816, 6040,   24,  531,   32],\n",
            "        [  32,  935,  938,  551,  160,  437,   98,   93,  424,  678],\n",
            "        [  39,   26,  623,  251,  220,  181, 1218,  932,   24, 1199],\n",
            "        [ 593, 6027, 3532,  108,   32,  352, 3316,   27,  444,   64],\n",
            "        [ 924,  108,  925,   78,   30,  409, 1053, 5820,   93,  119],\n",
            "        [ 103,  416,   27,  468,   42, 1604,  437, 1162,  744,  108],\n",
            "        [  32, 2715,   48,  570,  813, 1128,  108,  504,   24, 4823],\n",
            "        [ 220, 4067,  693,   48,   64,   38,   27,   27,   24,  416],\n",
            "        [ 997,   42,  507,   54, 8000,   35,  381,   93,  101,  934],\n",
            "        [2866,   48,   82,  674,   24, 2884, 1231,   48,   26,  159],\n",
            "        [1040, 1153,  251,  154,  138,   87,  213,  148, 1234,   64],\n",
            "        [  27, 9347, 3656,   54,  133,  530,  152,   35,  416,   27],\n",
            "        [ 861,   26,  956, 4343,  861,  451,  491,   48, 1237,   26],\n",
            "        [5392, 1040, 2993, 2797,   48,  108,  318,  302,   24,  128],\n",
            "        [ 496,   26,   26,   26,   93,  552,   63,  181, 8670,  229],\n",
            "        [1106,   24,   32, 1717,  204, 1718,  169, 1719,   64,   26],\n",
            "        [  35,  466,   24,   32, 2750, 4213, 5762,  144,   48,   26],\n",
            "        [  87,  109,  462,   42,   35,   42,   26, 1486, 1629,   24],\n",
            "        [  32,  928, 7828,   34,  374, 1153,   98, 5676, 1714,   26],\n",
            "        [ 910,   32,   79,   26,  595,   40, 1987,   64,   32, 1524],\n",
            "        [  48,   32,   26, 2854, 1122, 2622, 2142,  169,  416,   27],\n",
            "        [  42,   93, 5057,   32, 7223,   30,  220, 1041,  119,   26],\n",
            "        [  93,   27,   27,   42, 7193, 8145,  777, 1960,  315,   32],\n",
            "        [3901,   32, 4721, 5264,   26,  119, 1319,  460,  315, 1140],\n",
            "        [  24,  108,   32, 3921,  378,   83, 2772, 2523,   42,  416],\n",
            "        [  42,   78,   24,   32,  574, 2493, 1564,   33,   69, 2569],\n",
            "        [  24,  303, 2071,   69, 2623,  365,  109, 3682,  108, 1054],\n",
            "        [6266,  226, 4363,   32, 8202, 4348,   26,   48,   26,   26],\n",
            "        [ 841, 4059,   54,  615,  108,   32, 1100,   35, 4366,   42],\n",
            "        [  26, 4577,  108,  227,   32, 2479,  133, 1093,  459, 1780],\n",
            "        [1482, 1709, 7445,   64,   32,  133,  872, 5698,  108, 7358],\n",
            "        [  76, 1153,   32, 7515,   24,  566, 1727,   24,   39,   26],\n",
            "        [  35, 1619, 4020, 2003,   24, 1167, 2005,   64,  323,   40],\n",
            "        [  98,   78,  432,  251, 2797, 3423,   48,  623,  251, 1218],\n",
            "        [ 169,   32, 3661, 2732, 6055,  652, 1193,   81,   24,  315],\n",
            "        [  24, 1072, 1419,  103, 1661, 1771,  109, 7725, 1087,  558],\n",
            "        [5204,   24,   39, 5782,  840,   55,   35,   37,  749,   32],\n",
            "        [ 152, 9655, 1401,   48, 3781, 5638, 3034,   64, 1088, 4297],\n",
            "        [ 328,   34,   42,  267,   27, 1032,  160,   79,   80, 8601],\n",
            "        [  26,   24, 2222, 1339, 1624,  109,   33,  461,   32, 6406],\n",
            "        [9724, 1950,  289,   32,  574,   42,  227, 4391,  931,   24],\n",
            "        [5608,  872, 2247,   48,   26,  244,   26, 1922,  113, 3797],\n",
            "        [  26, 3569,   48, 1408, 3155, 1420, 4207,   24,   35, 9448],\n",
            "        [1932, 1123,   42,   32, 2970,   32,  841, 5126, 1515,   42],\n",
            "        [  32, 2913,  685, 3955,  130,  432,  365,   32,  431,   26],\n",
            "        [6739,   64,   32,  189,  119, 2761,   24,   32, 2014,   78],\n",
            "        [7643,   42,   32, 1766, 5221, 2129, 1665, 2804,   27, 1996],\n",
            "        [1760,   87, 5850, 5851, 5852,   98, 1414,  840,   69, 2947],\n",
            "        [  42, 1195, 1634,   64,  682,  965,  966,   48,  108,  307],\n",
            "        [  48,  888, 1812,  532,  318,  652,   26,   93, 2289,  251],\n",
            "        [1624,   42, 1041,  108,  396,   32, 2230, 1624,  840, 7134],\n",
            "        [ 932,   24,  110,  245, 8380, 5711,   78,  119,  646,  566],\n",
            "        [ 854,   24,  365,  248, 8640,  734,  795,  997,   42, 3286],\n",
            "        [ 930,  331, 3665,  133,   35, 3259, 2227,  169, 1146, 4987],\n",
            "        [5134, 2613,   35, 2266,   42, 6740,   24,  133,   35, 1028],\n",
            "        [  40,  145,   24,  758, 1519,  108,  913,   87, 7241,  301],\n",
            "        [ 109,   27,   26,  181,  416,   24,  169, 1331,  141,   40],\n",
            "        [ 416,   27,  187,  853, 7286,  395,   42, 3919,  733,   24],\n",
            "        [ 127,  181,  504,   30,  220, 4470,  795, 1253,   40,  825],\n",
            "        [ 338,   64,  792,   35, 4496, 3006,  668,   95,  181,   35],\n",
            "        [ 152,   32,  101,  934,  935,  152, 1362,   93, 3647, 3648],\n",
            "        [ 108, 1969,   64,   32,   27, 5123, 4299, 3213,  229, 5473],\n",
            "        [  32,  458, 2808,   54, 1032,   27,  187,  930,   95,  169],\n",
            "        [1563,   48, 5824,  234,  718,  762,  531, 7388,  113, 3915],\n",
            "        [1521,   24,  108,   32,  663, 7080, 6766, 4137,  416,   27],\n",
            "        [  64,  474,  229,  974,   26,   42,  237,  845,  929,   24],\n",
            "        [3985,  382,  171,  774, 2165, 1940,  307,   42,  214,  148],\n",
            "        [ 159,  382,   24,   48,  605, 2634,  108,  256, 1420, 1780],\n",
            "        [4790,  130,  238,  885,   78,   35,   26,   24, 7032,  119],\n",
            "        [4956, 9838,  119,  245, 6086, 3356,   71, 1569,  896,   24],\n",
            "        [  40,   93,  307, 1502, 3817,  734,  182, 7769,   98, 7037],\n",
            "        [5798, 5799,  270,  416,   27,   42, 1066, 5800,  503,   27],\n",
            "        [  39,   26,   30, 2228,   32,   48, 6724, 1088,   42,   26],\n",
            "        [  26, 3222,  301,  987, 5289, 7969, 6648,   48,  320,   35],\n",
            "        [ 204,  734,  745,   64, 3208, 3395,  229, 7356,  289, 1339],\n",
            "        [8219, 1757, 4331, 2821,   48,  181, 6255, 1769,   24,  130],\n",
            "        [  78, 3356,   32, 1623,  943,   42, 1945, 1946,  230, 1947],\n",
            "        [  39, 3933,   26,   32,   26, 2507, 5244,   26,   26,   24],\n",
            "        [9706,  119, 4393,  935,  924, 1652,   24,   32, 8768, 2312],\n",
            "        [ 431,   24,  373,   32, 4979,  646,   26,   64, 1153,   93],\n",
            "        [3795,   24,  225, 3431, 3430,   32,  189,  119,   27,  944],\n",
            "        [ 396,  220, 7324,   24, 8191,   32, 3241,  209, 2379,  159],\n",
            "        [ 416,   27,  468,  467,   27,   35,  466,  152,  497,   42],\n",
            "        [  26, 9729, 7392,  108,   32,   34,   35, 5490, 2001,  232],\n",
            "        [  34, 1420, 2584,   26,  895, 1485, 5907,   42,   26,   48],\n",
            "        [  64, 5508,  119, 1623, 1961, 4622,   32, 3899, 4633,  757],\n",
            "        [ 373,   42, 1352,  229,   39,   35,  459, 2079,   64, 1573],\n",
            "        [2980, 3203,   39, 8817, 8818,   93,   26, 3050, 4028,  130],\n",
            "        [ 245, 3902, 3903,  489,  969,   35, 1773, 5596,  181,   32],\n",
            "        [ 435, 3233,   32,  189,  119,  160, 3807,   26,   24,   78],\n",
            "        [5088, 1975,   24,  895,  373, 2993,  883,  307,   26,  653],\n",
            "        [3440,   24,   32,   26,  113,   93,  374, 3001,  594,   95],\n",
            "        [ 357, 1561,   42,  416,   27, 5027,  133,   27,   27,   42],\n",
            "        [6874, 4299,   40, 1428, 2500,  159,  188,  108, 3583, 6858],\n",
            "        [1000,   27,   64,  935,   42,   38,   27,   24,  603,  170]])\n",
            "Negative Sample: tensor([[  78, 2485,   54, 5079, 8569],\n",
            "        [7886, 6784, 4857, 2124,  935],\n",
            "        [1988,  220, 5376, 1194,  315],\n",
            "        [2254,  466,  582, 1100,   26],\n",
            "        [2680, 4918, 1880, 4580, 2890],\n",
            "        [ 108, 3486,  908, 9943, 4125],\n",
            "        [5962,   35, 3257,  109, 1339],\n",
            "        [ 351, 6864,  804, 1729, 3932],\n",
            "        [3777, 9572,  130, 3989, 1799],\n",
            "        [ 778,  383,  623,  115, 7334],\n",
            "        [5132,  674, 4414, 3252,   88],\n",
            "        [ 187, 8673,  275, 1632,  826],\n",
            "        [1512, 2304, 5939, 1088,   69],\n",
            "        [  32,  602,   26,   24, 1153],\n",
            "        [  48,  848, 1715, 1066, 6151],\n",
            "        [ 159,  108,  413, 5129, 5179],\n",
            "        [2303, 2977, 2116, 7459,   34],\n",
            "        [1029,   93, 6321, 8690,  408],\n",
            "        [ 917, 7166, 8192,  243,  874],\n",
            "        [2707,  853, 1562, 2303, 1321],\n",
            "        [ 685,  815,   24,  526, 9323],\n",
            "        [  32, 2158, 1190,  408, 1253],\n",
            "        [ 113,  882, 2842, 1636,  820],\n",
            "        [5396, 1034,  108, 5057, 2688],\n",
            "        [ 689, 1401, 7917, 9178, 4997],\n",
            "        [4222,  594, 2803, 5763,   42],\n",
            "        [  64, 4482, 1861,   27, 2856],\n",
            "        [1304, 7481,  555, 7802,  154],\n",
            "        [ 229,   65,  358, 1175,  476],\n",
            "        [2230,  280, 6108, 2430,   26],\n",
            "        [ 433,  466,   56,  383,   32],\n",
            "        [ 489, 7928, 3101, 9797, 2303],\n",
            "        [ 590, 2476,  895, 6364, 1294],\n",
            "        [ 817,  738,   48,  152, 1314],\n",
            "        [7635, 5362,  757, 2873,   64],\n",
            "        [1786, 1260, 5340,   42, 2525],\n",
            "        [  48,   26, 4102, 2399, 1128],\n",
            "        [ 887, 5072,   98, 2376, 2679],\n",
            "        [9009, 4670,  392,  616,  710],\n",
            "        [8763,   42, 2382, 1742,  167],\n",
            "        [ 875,  119, 1487, 5639,  499],\n",
            "        [ 337, 1935,   95, 7083, 6962],\n",
            "        [1260, 2896, 2496,   32, 3351],\n",
            "        [1262,  888,   40,  694,   28],\n",
            "        [7632,  639, 4243,   40, 1483],\n",
            "        [1791, 1821,  775,  495, 1922],\n",
            "        [1004, 6790,  227, 7500, 3466],\n",
            "        [1028, 1319, 1325,  628,  225],\n",
            "        [  35,  495,   32, 5746,  119],\n",
            "        [ 801, 3185, 4364, 1486,  695],\n",
            "        [5335, 1961, 4090, 2111,   26],\n",
            "        [ 637,  124, 5298, 7958, 3730],\n",
            "        [1928, 4856,  351,   27, 9694],\n",
            "        [ 196, 3205, 7548, 5620,  249],\n",
            "        [ 886, 2598,  160, 1584, 3901],\n",
            "        [8369, 4794, 3513, 2095,  284],\n",
            "        [ 142, 3990,  468, 2093, 9413],\n",
            "        [2906, 3155, 3628,   42, 7368],\n",
            "        [  93, 3116, 1293,  433, 3638],\n",
            "        [  93,  114, 1338,   24,  352],\n",
            "        [8911, 1725,  129, 3965,   27],\n",
            "        [8930,  247,  840, 5886, 1485],\n",
            "        [6475, 6775,  315, 3423, 2287],\n",
            "        [1374, 6773, 3605, 6437, 6003],\n",
            "        [3349, 2577,  363,  119, 3142],\n",
            "        [1359, 2531,   32,  312,  661],\n",
            "        [7072, 2129, 9939, 8844,   64],\n",
            "        [1026, 1420,  554,   87, 6566],\n",
            "        [ 321,  162,  233, 5793,  733],\n",
            "        [ 337, 3647, 1800,  647, 1487],\n",
            "        [4521, 3408,  801,  339,  591],\n",
            "        [4495,  555, 1903,   32,  416],\n",
            "        [  56, 9484,  931,  251,  108],\n",
            "        [3774, 4310, 1761,   42, 3144],\n",
            "        [7790, 6095,  169,  172,  745],\n",
            "        [4168,  119, 9984,   24, 3313],\n",
            "        [ 823,  498, 1088, 1600,   27],\n",
            "        [ 203, 1195, 2942, 4955, 3614],\n",
            "        [1845, 3315,  128, 7918, 3558],\n",
            "        [  87,  350,   39, 3847,  554],\n",
            "        [1556,   35, 2897,  284, 7083],\n",
            "        [1072, 3876, 2169, 4052, 1020],\n",
            "        [1832,  222, 3823,   54, 1639],\n",
            "        [2215, 7298,   42, 2901, 3017],\n",
            "        [1094, 1027, 4982,  277, 1260],\n",
            "        [  30, 1523,   32,   42,  882],\n",
            "        [7383,  864, 4479,   26,  114],\n",
            "        [ 425,  337, 1006, 5794,  101],\n",
            "        [ 247,  718, 9279,   27, 1164],\n",
            "        [ 818,   56, 3023,  168,  235],\n",
            "        [2130, 5431,  290, 1577,   24],\n",
            "        [4074,  718, 1419,   93, 1569],\n",
            "        [7318, 1009,  920,   54,   48],\n",
            "        [4078,  181,  652,  131,  468],\n",
            "        [5607, 6800, 3094, 1513, 9036],\n",
            "        [5054,   32, 5080, 1954,  245],\n",
            "        [5448, 6417,  895,   64, 3192],\n",
            "        [4930, 6465, 4617,  229, 8123],\n",
            "        [ 801,  204,  639,   24,   51],\n",
            "        [  35, 7001, 5859, 3143, 2843]])\n"
          ]
        }
      ]
    },
    {
      "cell_type": "markdown",
      "source": [
        "## ニューラルネットワークの設計\n",
        "###ここではskip-gramモデルを実装します。次元に注意してください。"
      ],
      "metadata": {
        "id": "QjMjSOpVZvpG"
      }
    },
    {
      "cell_type": "code",
      "source": [
        "class SkipGram(nn.Module):\n",
        "  def __init__(self, vocab_size, hidden_size):\n",
        "    V, H = vocab_size, hidden_size\n",
        "\n",
        "    super().__init__()\n",
        "    self.embeds_i = nn.Embedding(V, H)\n",
        "    self.embeds_o = nn.Embedding(V, H)\n",
        "\n",
        "  def forward(self, inputs, pos_samples, neg_samples):\n",
        "    embeds_i = self.embeds_i(inputs)\n",
        "\n",
        "    num_context_words = pos_samples.shape[1]   # 2 * window_size = 10\n",
        "    num_negative_words = neg_samples.shape[1]  # sample_size = 5\n",
        "    pos_samples = pos_samples.view(-1)\n",
        "    neg_samples = neg_samples.view(-1)\n",
        "\n",
        "    embeds_p = self.embeds_o(pos_samples).view(-1, num_context_words, self.embeds_o.embedding_dim)\n",
        "    embeds_n = self.embeds_o(neg_samples).view(-1, num_negative_words, self.embeds_o.embedding_dim)\n",
        "\n",
        "    # POS\n",
        "    pos_score = torch.sum(embeds_i.unsqueeze(1) * embeds_p, dim=2)\n",
        "\n",
        "    # NEG\n",
        "    neg_score = torch.sum(embeds_i.unsqueeze(1) * embeds_n, dim=2)\n",
        "\n",
        "    return pos_score.sigmoid(), neg_score.sigmoid()\n"
      ],
      "metadata": {
        "id": "3JlTIAuPbLVq"
      },
      "execution_count": 58,
      "outputs": []
    },
    {
      "cell_type": "markdown",
      "source": [
        "##学習\n",
        "###実際にデータを使って学習します。ここではtrainer関数を実装します"
      ],
      "metadata": {
        "id": "PRZHmYC8uy0M"
      }
    },
    {
      "cell_type": "code",
      "source": [
        "from tqdm import tqdm\n",
        "import torch\n",
        "from torch.utils.tensorboard import SummaryWriter\n",
        "\n",
        "def trainer(net, max_epochs=10, LR=0.002, verbose=True):\n",
        "  # DataLoaderの設定\n",
        "  dl_dict = {'train': ptb_dataloader}\n",
        "\n",
        "  # 初期化関数の定義\n",
        "  def weight_init(m):\n",
        "    classname = m.__class__.__name__\n",
        "    if classname.find('Embedding') != -1:\n",
        "      with torch.no_grad():\n",
        "        m.weight.data.normal_(0, 0.01)\n",
        "\n",
        "  # デバイスの確認\n",
        "  device = torch.device(\"cuda:0\" if torch.cuda.is_available() else \"cpu\")\n",
        "  compute_device = \"GPU\" if device.type == \"cuda\" else \"CPU\"\n",
        "  print(f\"This is {compute_device} trainer !!\")\n",
        "  print(\"-\"*20, 'Start', \"-\"*20)\n",
        "\n",
        "  net.to(device)\n",
        "\n",
        "  # 初期化\n",
        "  net.apply(weight_init)\n",
        "\n",
        "  # 訓練モード\n",
        "  net.train()\n",
        "  torch.backends.cudnn.benchmark = False   # Trueにすると学習が高速になる(かもしれない)が再現性がなくなる\n",
        "\n",
        "  optimizer = torch.optim.Adam(net.parameters(), lr=LR)\n",
        "  losses = torch.zeros(max_epochs)\n",
        "  accuracies = torch.zeros(max_epochs)\n",
        "\n",
        "  for epoch in range(max_epochs):\n",
        "    phase = 'train'\n",
        "\n",
        "    running_loss = 0.0\n",
        "    correct_pred = 0\n",
        "    total_pred = 0\n",
        "    for batch_target, batch_positive, batch_negative in tqdm(dl_dict[phase]):\n",
        "      inputs = batch_target.to(device)\n",
        "      pos_samples = batch_positive.to(device)\n",
        "      neg_samples = batch_negative.to(device)\n",
        "\n",
        "      optimizer.zero_grad()\n",
        "      with torch.set_grad_enabled(phase=='train'):\n",
        "        pos_s, neg_s = net(inputs, pos_samples, neg_samples)\n",
        "        loss = -torch.log(pos_s + 1e-10).sum() - torch.log(1 - neg_s + 1e-10).sum()\n",
        "\n",
        "        # 正解数をカウント\n",
        "        # pos_s >= 0.5で正とみなす\n",
        "        predictions = pos_s >= 0.5                 # True/Falseを保存\n",
        "        correct_pred += predictions.sum().item()   # Trueの合計(各エポックでの正解数)\n",
        "        total_pred += predictions.numel()          # predictionsの要素数(Falseを含む)\n",
        "\n",
        "        if phase == 'train':\n",
        "          loss.backward()\n",
        "          optimizer.step()\n",
        "          running_loss += loss.item()\n",
        "\n",
        "    losses[epoch] = running_loss / len(dl_dict[phase].dataset)\n",
        "    accuracies[epoch] = correct_pred / total_pred\n",
        "\n",
        "    if verbose:\n",
        "      print('Epoch {}/{} | {:^5} | Loss: {:.4f} | Accuracy: {:.4f}'.format(\n",
        "          epoch+1,\n",
        "          max_epochs,\n",
        "          phase,\n",
        "          losses[epoch],\n",
        "          accuracies[epoch])\n",
        "      )\n",
        "\n",
        "  writer.close()\n",
        "  return net, losses, accuracies\n",
        "\n"
      ],
      "metadata": {
        "id": "ugga9U1heZXq"
      },
      "execution_count": 76,
      "outputs": []
    },
    {
      "cell_type": "code",
      "source": [
        "net = SkipGram(vocab_size=len(word_to_id), hidden_size=100)"
      ],
      "metadata": {
        "id": "JKnB-R9ylo9I"
      },
      "execution_count": 65,
      "outputs": []
    },
    {
      "cell_type": "code",
      "source": [
        "%%time\n",
        "trained_net, losses, accuracies = trainer(net, max_epochs=10, LR=0.001, verbose=True)"
      ],
      "metadata": {
        "id": "cqw3Ki7xkxqg",
        "colab": {
          "base_uri": "https://localhost:8080/"
        },
        "outputId": "9806514a-26aa-4383-9350-a33e02155157"
      },
      "execution_count": 66,
      "outputs": [
        {
          "output_type": "stream",
          "name": "stdout",
          "text": [
            "This is GPU trainer !!\n",
            "-------------------- Start --------------------\n"
          ]
        },
        {
          "output_type": "stream",
          "name": "stderr",
          "text": [
            "100%|██████████| 9296/9296 [05:24<00:00, 28.69it/s]\n"
          ]
        },
        {
          "output_type": "stream",
          "name": "stdout",
          "text": [
            "Epoch 1/10 | train | Loss: 8.6780 | Accuracy: 0.8878\n"
          ]
        },
        {
          "output_type": "stream",
          "name": "stderr",
          "text": [
            "100%|██████████| 9296/9296 [05:20<00:00, 28.99it/s]\n"
          ]
        },
        {
          "output_type": "stream",
          "name": "stdout",
          "text": [
            "Epoch 2/10 | train | Loss: 8.3633 | Accuracy: 0.8888\n"
          ]
        },
        {
          "output_type": "stream",
          "name": "stderr",
          "text": [
            "100%|██████████| 9296/9296 [05:14<00:00, 29.58it/s]\n"
          ]
        },
        {
          "output_type": "stream",
          "name": "stdout",
          "text": [
            "Epoch 3/10 | train | Loss: 8.2126 | Accuracy: 0.8905\n"
          ]
        },
        {
          "output_type": "stream",
          "name": "stderr",
          "text": [
            "100%|██████████| 9296/9296 [05:13<00:00, 29.61it/s]\n"
          ]
        },
        {
          "output_type": "stream",
          "name": "stdout",
          "text": [
            "Epoch 4/10 | train | Loss: 8.1117 | Accuracy: 0.8926\n"
          ]
        },
        {
          "output_type": "stream",
          "name": "stderr",
          "text": [
            "100%|██████████| 9296/9296 [05:15<00:00, 29.47it/s]\n"
          ]
        },
        {
          "output_type": "stream",
          "name": "stdout",
          "text": [
            "Epoch 5/10 | train | Loss: 8.0228 | Accuracy: 0.8947\n"
          ]
        },
        {
          "output_type": "stream",
          "name": "stderr",
          "text": [
            "100%|██████████| 9296/9296 [05:18<00:00, 29.22it/s]\n"
          ]
        },
        {
          "output_type": "stream",
          "name": "stdout",
          "text": [
            "Epoch 6/10 | train | Loss: 7.9488 | Accuracy: 0.8966\n"
          ]
        },
        {
          "output_type": "stream",
          "name": "stderr",
          "text": [
            "100%|██████████| 9296/9296 [05:19<00:00, 29.06it/s]\n"
          ]
        },
        {
          "output_type": "stream",
          "name": "stdout",
          "text": [
            "Epoch 7/10 | train | Loss: 7.8898 | Accuracy: 0.8988\n"
          ]
        },
        {
          "output_type": "stream",
          "name": "stderr",
          "text": [
            "100%|██████████| 9296/9296 [05:16<00:00, 29.40it/s]\n"
          ]
        },
        {
          "output_type": "stream",
          "name": "stdout",
          "text": [
            "Epoch 8/10 | train | Loss: 7.8341 | Accuracy: 0.9007\n"
          ]
        },
        {
          "output_type": "stream",
          "name": "stderr",
          "text": [
            "100%|██████████| 9296/9296 [06:03<00:00, 25.56it/s]\n"
          ]
        },
        {
          "output_type": "stream",
          "name": "stdout",
          "text": [
            "Epoch 9/10 | train | Loss: 7.7892 | Accuracy: 0.9021\n"
          ]
        },
        {
          "output_type": "stream",
          "name": "stderr",
          "text": [
            "100%|██████████| 9296/9296 [05:32<00:00, 27.97it/s]\n"
          ]
        },
        {
          "output_type": "stream",
          "name": "stdout",
          "text": [
            "Epoch 10/10 | train | Loss: 7.7495 | Accuracy: 0.9035\n",
            "CPU times: user 52min 26s, sys: 27.6 s, total: 52min 53s\n",
            "Wall time: 54min\n"
          ]
        }
      ]
    },
    {
      "cell_type": "code",
      "source": [
        "# 重みの保存\n",
        "import os\n",
        "save_path = root_path + \"/weights/\"\n",
        "if not os.path.exists(save_path):\n",
        "  os.makedirs(save_path)\n",
        "\n",
        "torch.save(trained_net.state_dict(), save_path + \"model_weights.pth\")"
      ],
      "metadata": {
        "id": "vfRm2ObNxzlR"
      },
      "execution_count": 67,
      "outputs": []
    },
    {
      "cell_type": "code",
      "source": [
        "import matplotlib.pyplot as plt\n",
        "plt.plot(losses)\n",
        "plt.xlabel('epoch')\n",
        "plt.ylabel('loss')\n",
        "plt.show()"
      ],
      "metadata": {
        "colab": {
          "base_uri": "https://localhost:8080/",
          "height": 449
        },
        "id": "E3JUaUGdYAbw",
        "outputId": "dda27680-abb9-4fb8-90fa-ec54c39ee43f"
      },
      "execution_count": 75,
      "outputs": [
        {
          "output_type": "display_data",
          "data": {
            "text/plain": [
              "<Figure size 640x480 with 1 Axes>"
            ],
            "image/png": "[encoded data removed]"
          },
          "metadata": {}
        }
      ]
    },
    {
      "cell_type": "markdown",
      "source": [
        "## skip-gramモデルの評価\n",
        "###ここでは学習によって得られた単語ベクトルを用いて、今回のモデルの性能を評価します。次の二つの方法で評価していきます。\n",
        "- ベクトルの類似度：単語ベクトル同士の類似度を計算して私たちの感覚と合致するか確認します\n",
        "- 類推問題：king：man = queen：? のような問題が解けるのかを確認します"
      ],
      "metadata": {
        "id": "2Qkf-Xa8xvBC"
      }
    },
    {
      "cell_type": "code",
      "source": [
        "# 単語ベクトル\n",
        "weights = trained_net.state_dict()\n",
        "in_embeds_weights = weights['embeds_i.weight']\n",
        "print(in_embeds_weights.shape)"
      ],
      "metadata": {
        "id": "t1R4OQGU2QOL"
      },
      "execution_count": null,
      "outputs": []
    },
    {
      "cell_type": "code",
      "source": [
        "# 評価関数の定義\n",
        "# 以下のレポジトリを参考にしました\n",
        "# https://github.com/oreilly-japan/deep-learning-from-scratch-2/blob/master/common/util.py\n",
        "import numpy\n",
        "import torch\n",
        "import torch.nn.functional as F\n",
        "\n",
        "def cos_sim(x, y):\n",
        "  return F.cosine_similarity(x.unsqueeze(0), y.unsqueeze(0)).item()\n",
        "\n",
        "def most_sim(query, word_to_id, id_to_word, word_matrix, top=5):\n",
        "  if query not in word_to_id:\n",
        "    print(f'{query} is not found.')\n",
        "    return\n",
        "\n",
        "  print('\\n[query]' + query)\n",
        "  query_id = word_to_id[query]\n",
        "  query_vec = word_matrix[query_id]\n",
        "\n",
        "  vocab_size = word_matrix.shape[0]\n",
        "\n",
        "  # similarity\n",
        "  similarity = torch.zeros(vocab_size)\n",
        "  for i in range(vocab_size):\n",
        "    similarity[i] = cos_sim(word_matrix[i], query_vec)\n",
        "\n",
        "  # display\n",
        "  count = 0\n",
        "  for i in (-1 * similarity).argsort().cpu().numpy():\n",
        "    if id_to_word[i] == query:\n",
        "      continue\n",
        "\n",
        "    print('%s: %s' % (id_to_word[i], similarity[i]))\n",
        "\n",
        "    count += 1\n",
        "    if count >= top:\n",
        "      return\n"
      ],
      "metadata": {
        "id": "1pCDMfwy3Yt_"
      },
      "execution_count": 69,
      "outputs": []
    },
    {
      "cell_type": "code",
      "source": [
        "# 類似度の表示\n",
        "query = [\"you\", \"year\", \"car\", \"toyota\"]\n",
        "for q in query:\n",
        "  most_sim(q, word_to_id, id_to_word, in_embeds_weights, top=5)"
      ],
      "metadata": {
        "colab": {
          "base_uri": "https://localhost:8080/"
        },
        "id": "uH-PcFOo6W8E",
        "outputId": "c8c82393-d4d7-4ba6-b6cf-c64ae13d1150"
      },
      "execution_count": 70,
      "outputs": [
        {
          "output_type": "stream",
          "name": "stdout",
          "text": [
            "\n",
            "[query]you\n",
            "your: tensor(0.6185)\n",
            "someone: tensor(0.6029)\n",
            "i: tensor(0.5925)\n",
            "yourself: tensor(0.5856)\n",
            "if: tensor(0.5657)\n",
            "\n",
            "[query]year\n",
            "earlier: tensor(0.6614)\n",
            "tons: tensor(0.4908)\n",
            "this: tensor(0.4774)\n",
            "fiscal: tensor(0.4753)\n",
            "guilders: tensor(0.4694)\n",
            "\n",
            "[query]car\n",
            "cars: tensor(0.6346)\n",
            "motor: tensor(0.5272)\n",
            "corsica: tensor(0.5172)\n",
            "auto: tensor(0.5078)\n",
            "lexus: tensor(0.4852)\n",
            "\n",
            "[query]toyota\n",
            "lexus: tensor(0.6925)\n",
            "infiniti: tensor(0.6675)\n",
            "luxury: tensor(0.6477)\n",
            "corsica: tensor(0.6421)\n",
            "motor: tensor(0.6327)\n"
          ]
        }
      ]
    },
    {
      "cell_type": "code",
      "source": [
        "# 類推問題\n",
        "# 以下のレポジトリを参考にしました\n",
        "# https://github.com/oreilly-japan/deep-learning-from-scratch-2/blob/master/common/util.py\n",
        "\n",
        "import torch\n",
        "from typing import Dict\n",
        "\n",
        "def analogy(a: str, b: str, c: str, word_to_id: Dict[str, int], id_to_word: Dict[int, str], word_matrix: torch.Tensor, top: int = 5, answer: str = None):\n",
        "  for word in (a, b, c):\n",
        "    if word not in word_to_id:\n",
        "      print(f'{word} is not found.')\n",
        "      return\n",
        "\n",
        "  print('\\n[analogy] ' + a + ':' + b + ' = ' + c + ':?')\n",
        "  a_vec, b_vec, c_vec = word_matrix[word_to_id[a]], word_matrix[word_to_id[b]], word_matrix[word_to_id[c]]\n",
        "  query_vec = b_vec - a_vec + c_vec\n",
        "  query_vec = normalize(query_vec)\n",
        "\n",
        "  # similarity\n",
        "  similarity = torch.mv(word_matrix, query_vec)\n",
        "\n",
        "  if answer is not None:\n",
        "    print('==>' + answer + ':' + str(torch.dot(word_matrix[word_to_id[answer]], query_vec)))\n",
        "\n",
        "  # display\n",
        "  count = 0\n",
        "  for i in (-1 * similarity).argsort().cpu().numpy():\n",
        "    if torch.isnan(similarity[i]):\n",
        "      continue\n",
        "\n",
        "    if id_to_word[i] in (a, b, c):\n",
        "      continue\n",
        "\n",
        "    print(' {0}: {1}'.format(id_to_word[i], similarity[i]))\n",
        "\n",
        "    count += 1\n",
        "    if count >= top:\n",
        "      return\n",
        "\n",
        "def normalize(x: torch.Tensor) -> torch.Tensor:\n",
        "  # テンソルの正規化\n",
        "  return x / torch.sqrt((x ** 2).sum())"
      ],
      "metadata": {
        "id": "gb3YDgZA87Ce"
      },
      "execution_count": 71,
      "outputs": []
    },
    {
      "cell_type": "code",
      "source": [
        "# 類推問題を解く(現状、良い結果は得られませんでした。。。)\n",
        "analogy('man', 'king', 'woman', word_to_id, id_to_word, in_embeds_weights, top=5)\n",
        "analogy('take', 'took', 'go', word_to_id, id_to_word, in_embeds_weights, top=5)\n",
        "analogy('car', 'cars', 'child', word_to_id, id_to_word, in_embeds_weights, top=5)"
      ],
      "metadata": {
        "colab": {
          "base_uri": "https://localhost:8080/"
        },
        "id": "TPasEZKbCGS8",
        "outputId": "a0e757ff-905a-4f42-e653-ceb6b1317eaa"
      },
      "execution_count": 72,
      "outputs": [
        {
          "output_type": "stream",
          "name": "stdout",
          "text": [
            "\n",
            "[analogy] man:king = woman:?\n",
            " disease: 1.5116997957229614\n",
            " user: 1.41786527633667\n",
            " epo: 1.4159584045410156\n",
            " rubicam: 1.406980276107788\n",
            " print: 1.3894294500350952\n",
            "\n",
            "[analogy] take:took = go:?\n",
            " ran: 1.382978916168213\n",
            " bought: 1.3222405910491943\n",
            " back: 1.2813529968261719\n",
            " kept: 1.225399136543274\n",
            " trap: 1.1942774057388306\n",
            "\n",
            "[analogy] car:cars = child:?\n",
            " rape: 2.307985305786133\n",
            " incest: 2.041339874267578\n",
            " serial: 1.956311821937561\n",
            " adults: 1.9404823780059814\n",
            " pregnant: 1.8595755100250244\n"
          ]
        }
      ]
    },
    {
      "cell_type": "markdown",
      "source": [
        "今回は計算リソースの都合、エポックを多めに設定できなかったため良い結果が得られなかったのではないかと考えられます。特に類推問題は、期待した結果からは大きく離れています。"
      ],
      "metadata": {
        "id": "0uYtO2zKKbKr"
      }
    }
  ]
}